{
  "nbformat": 4,
  "nbformat_minor": 0,
  "metadata": {
    "colab": {
      "name": "assignment3.ipynb",
      "provenance": []
    },
    "kernelspec": {
      "name": "python3",
      "display_name": "Python 3"
    }
  },
  "cells": [
    {
      "cell_type": "code",
      "metadata": {
        "id": "9u1XM6a523Bg"
      },
      "source": [
        "#assignment 3\r\n"
      ],
      "execution_count": null,
      "outputs": []
    },
    {
      "cell_type": "code",
      "metadata": {
        "colab": {
          "base_uri": "https://localhost:8080/"
        },
        "id": "ZD8WBAqF3JaP",
        "outputId": "09a85b4f-d6e9-4d0c-dc48-8ed7ed7ab83b"
      },
      "source": [
        "num=int(input(\"enter a number\"))\r\n",
        "if num>1:\r\n",
        "  for i in range(2,num):\r\n",
        "    if (num%i==0):\r\n",
        "      print(num,\" is not a prime number\")\r\n",
        "      break\r\n",
        "    else:\r\n",
        "      print(num,\"is a prime number\")\r\n",
        "\r\n",
        "else:\r\n",
        "  print(num,\"is not a prime number\")       "
      ],
      "execution_count": 3,
      "outputs": [
        {
          "output_type": "stream",
          "text": [
            "enter a number3\n",
            "3 is a prime number\n"
          ],
          "name": "stdout"
        }
      ]
    }
  ]
}