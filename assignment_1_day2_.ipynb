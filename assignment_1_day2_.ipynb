{
  "nbformat": 4,
  "nbformat_minor": 0,
  "metadata": {
    "colab": {
      "name": "assignment-1 day2-.ipynb ",
      "provenance": []
    },
    "kernelspec": {
      "name": "python3",
      "display_name": "Python 3"
    }
  },
  "cells": [
    {
      "cell_type": "code",
      "metadata": {
        "id": "seJnxeV8ujlm"
      },
      "source": [
        "#lists\r\n"
      ],
      "execution_count": null,
      "outputs": []
    },
    {
      "cell_type": "code",
      "metadata": {
        "colab": {
          "base_uri": "https://localhost:8080/",
          "height": 35
        },
        "id": "u_T6_UUKvNuZ",
        "outputId": "70c177c8-41db-4007-8a51-5010fc32ffa0"
      },
      "source": [
        "lst=[1,2,3,\"harsha\",['a','b'],'ram']\r\n",
        "''"
      ],
      "execution_count": 3,
      "outputs": [
        {
          "output_type": "execute_result",
          "data": {
            "application/vnd.google.colaboratory.intrinsic+json": {
              "type": "string"
            },
            "text/plain": [
              "''"
            ]
          },
          "metadata": {
            "tags": []
          },
          "execution_count": 3
        }
      ]
    },
    {
      "cell_type": "code",
      "metadata": {
        "colab": {
          "base_uri": "https://localhost:8080/"
        },
        "id": "uwO8atzlvZ0U",
        "outputId": "9faba18b-34ac-4b18-999a-d175cbaf6346"
      },
      "source": [
        "lst\r\n"
      ],
      "execution_count": 4,
      "outputs": [
        {
          "output_type": "execute_result",
          "data": {
            "text/plain": [
              "[1, 2, 3, 'harsha', ['a', 'b'], 'ram']"
            ]
          },
          "metadata": {
            "tags": []
          },
          "execution_count": 4
        }
      ]
    },
    {
      "cell_type": "code",
      "metadata": {
        "id": "I8a_V1Dfvptv"
      },
      "source": [
        "lst.append(7)"
      ],
      "execution_count": 5,
      "outputs": []
    },
    {
      "cell_type": "code",
      "metadata": {
        "colab": {
          "base_uri": "https://localhost:8080/"
        },
        "id": "ZZ_DwN-VvtWO",
        "outputId": "f843c005-c15e-443f-8648-4647349fa6b9"
      },
      "source": [
        "lst"
      ],
      "execution_count": 7,
      "outputs": [
        {
          "output_type": "execute_result",
          "data": {
            "text/plain": [
              "[1, 2, 3, 'harsha', ['a', 'b'], 'ram', 7]"
            ]
          },
          "metadata": {
            "tags": []
          },
          "execution_count": 7
        }
      ]
    },
    {
      "cell_type": "code",
      "metadata": {
        "colab": {
          "base_uri": "https://localhost:8080/",
          "height": 35
        },
        "id": "8UI7EUfiv83Q",
        "outputId": "a60fa34b-25be-4454-e466-eda32e6aa8f0"
      },
      "source": [
        "lst[4][1]"
      ],
      "execution_count": 8,
      "outputs": [
        {
          "output_type": "execute_result",
          "data": {
            "application/vnd.google.colaboratory.intrinsic+json": {
              "type": "string"
            },
            "text/plain": [
              "'b'"
            ]
          },
          "metadata": {
            "tags": []
          },
          "execution_count": 8
        }
      ]
    },
    {
      "cell_type": "code",
      "metadata": {
        "id": "xCp3X0aZw4ML"
      },
      "source": [
        "lst.insert(0,'raju')"
      ],
      "execution_count": 24,
      "outputs": []
    },
    {
      "cell_type": "code",
      "metadata": {
        "colab": {
          "base_uri": "https://localhost:8080/"
        },
        "id": "gJw0_Y4PxEbQ",
        "outputId": "bdac1321-54f8-4321-d2c9-20d9ca3c4f10"
      },
      "source": [
        "lst"
      ],
      "execution_count": 25,
      "outputs": [
        {
          "output_type": "execute_result",
          "data": {
            "text/plain": [
              "['raju',\n",
              " 'raju',\n",
              " 1,\n",
              " 2,\n",
              " 3,\n",
              " 'harsha',\n",
              " ['a', 'b'],\n",
              " 'raju',\n",
              " 'raju',\n",
              " 'ram',\n",
              " 7,\n",
              " 'raju']"
            ]
          },
          "metadata": {
            "tags": []
          },
          "execution_count": 25
        }
      ]
    },
    {
      "cell_type": "code",
      "metadata": {
        "id": "3wjLN90XxHyt"
      },
      "source": [
        "#dictionary\r\n"
      ],
      "execution_count": null,
      "outputs": []
    },
    {
      "cell_type": "code",
      "metadata": {
        "id": "2CTLkWo-xLPT"
      },
      "source": [
        "dit={\"key\":200,\"key1\":650}"
      ],
      "execution_count": 26,
      "outputs": []
    },
    {
      "cell_type": "code",
      "metadata": {
        "colab": {
          "base_uri": "https://localhost:8080/"
        },
        "id": "ggOh38arxtOu",
        "outputId": "6555f723-a9d1-4bb6-e318-b7526283f08c"
      },
      "source": [
        "dit.get(\"key\")"
      ],
      "execution_count": 27,
      "outputs": [
        {
          "output_type": "execute_result",
          "data": {
            "text/plain": [
              "200"
            ]
          },
          "metadata": {
            "tags": []
          },
          "execution_count": 27
        }
      ]
    },
    {
      "cell_type": "code",
      "metadata": {
        "colab": {
          "base_uri": "https://localhost:8080/"
        },
        "id": "zH6weqe7xwcm",
        "outputId": "d163e3d6-450c-44ea-ad02-99ef1635669a"
      },
      "source": [
        "dit.get(\"key1\")"
      ],
      "execution_count": 28,
      "outputs": [
        {
          "output_type": "execute_result",
          "data": {
            "text/plain": [
              "650"
            ]
          },
          "metadata": {
            "tags": []
          },
          "execution_count": 28
        }
      ]
    },
    {
      "cell_type": "code",
      "metadata": {
        "colab": {
          "base_uri": "https://localhost:8080/"
        },
        "id": "lM1pGsaJyD4v",
        "outputId": "c0d5326a-6da6-4f8b-b6d6-c9a13fe22f63"
      },
      "source": [
        "dit.keys()"
      ],
      "execution_count": 29,
      "outputs": [
        {
          "output_type": "execute_result",
          "data": {
            "text/plain": [
              "dict_keys(['key', 'key1'])"
            ]
          },
          "metadata": {
            "tags": []
          },
          "execution_count": 29
        }
      ]
    },
    {
      "cell_type": "code",
      "metadata": {
        "colab": {
          "base_uri": "https://localhost:8080/"
        },
        "id": "NkSzOdiHyLOc",
        "outputId": "c8f8bb65-b27e-4359-9b51-dc1ceecfea8d"
      },
      "source": [
        "dit.values()"
      ],
      "execution_count": 30,
      "outputs": [
        {
          "output_type": "execute_result",
          "data": {
            "text/plain": [
              "dict_values([200, 650])"
            ]
          },
          "metadata": {
            "tags": []
          },
          "execution_count": 30
        }
      ]
    }
  ]
}