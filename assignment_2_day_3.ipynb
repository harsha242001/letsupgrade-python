{
  "nbformat": 4,
  "nbformat_minor": 0,
  "metadata": {
    "colab": {
      "name": "assignment-2 day-3.ipynb",
      "provenance": []
    },
    "kernelspec": {
      "name": "python3",
      "display_name": "Python 3"
    }
  },
  "cells": [
    {
      "cell_type": "code",
      "metadata": {
        "id": "47GeHs5xz701"
      },
      "source": [
        "#assignment-2"
      ],
      "execution_count": null,
      "outputs": []
    },
    {
      "cell_type": "code",
      "metadata": {
        "id": "XaYhGU8F0XEw"
      },
      "source": [
        "altitude=500"
      ],
      "execution_count": 11,
      "outputs": []
    },
    {
      "cell_type": "code",
      "metadata": {
        "colab": {
          "base_uri": "https://localhost:8080/"
        },
        "id": "vPO9AlWb1Dds",
        "outputId": "8aaf2707-c233-424e-b24b-8ae215ccd625"
      },
      "source": [
        "if altitude <1000:\r\n",
        "  print(\"safe to land\")\r\n",
        "elif altitude>1000 and altitude<5000:\r\n",
        "  print(\"come down to 1000\")\r\n",
        "elif altitude>5000:\r\n",
        "  print(\"go around and try later\") "
      ],
      "execution_count": 12,
      "outputs": [
        {
          "output_type": "stream",
          "text": [
            "safe to land\n"
          ],
          "name": "stdout"
        }
      ]
    },
    {
      "cell_type": "code",
      "metadata": {
        "id": "lNVS4yTl2NiP"
      },
      "source": [
        "altitude = 6000"
      ],
      "execution_count": 13,
      "outputs": []
    },
    {
      "cell_type": "code",
      "metadata": {
        "colab": {
          "base_uri": "https://localhost:8080/"
        },
        "id": "zjzmNAKO2P4N",
        "outputId": "0de67de6-094c-40cf-9489-728ff6e0862e"
      },
      "source": [
        "if altitude <1000:\r\n",
        "  print(\"safe to land\")\r\n",
        "elif altitude>1000 and altitude<5000:\r\n",
        "  print(\"come down to 1000\")\r\n",
        "elif altitude>5000:\r\n",
        "  print(\"go around and try later\") "
      ],
      "execution_count": 14,
      "outputs": [
        {
          "output_type": "stream",
          "text": [
            "go around and try later\n"
          ],
          "name": "stdout"
        }
      ]
    },
    {
      "cell_type": "code",
      "metadata": {
        "id": "SkPQxCZz2UuM"
      },
      "source": [
        "altitude=4500"
      ],
      "execution_count": 15,
      "outputs": []
    },
    {
      "cell_type": "code",
      "metadata": {
        "colab": {
          "base_uri": "https://localhost:8080/"
        },
        "id": "GtPylG5A2Yr-",
        "outputId": "4e8e02c3-df30-45be-f12a-e79f3e540624"
      },
      "source": [
        "if altitude <1000:\r\n",
        "  print(\"safe to land\")\r\n",
        "elif altitude>1000 and altitude<5000:\r\n",
        "  print(\"come down to 1000\")\r\n",
        "elif altitude>5000:\r\n",
        "  print(\"go around and try later\") "
      ],
      "execution_count": 16,
      "outputs": [
        {
          "output_type": "stream",
          "text": [
            "come down to 1000\n"
          ],
          "name": "stdout"
        }
      ]
    }
  ]
}